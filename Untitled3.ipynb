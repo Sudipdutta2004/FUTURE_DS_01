{
 "cells": [
  {
   "cell_type": "code",
   "execution_count": 1,
   "id": "9fcc291b-a1b7-480f-ab0c-d98823d48cbf",
   "metadata": {},
   "outputs": [
    {
     "name": "stdout",
     "output_type": "stream",
     "text": [
      "Simplified CSV file created successfully.\n"
     ]
    },
    {
     "name": "stderr",
     "output_type": "stream",
     "text": [
      "C:\\Users\\Sudip\\AppData\\Local\\Temp\\ipykernel_4364\\491794008.py:12: FutureWarning: DataFrame.applymap has been deprecated. Use DataFrame.map instead.\n",
      "  simplified_df = simplified_df.applymap(lambda x: x.strip() if isinstance(x, str) else x)\n"
     ]
    }
   ],
   "source": [
    "import pandas as pd\n",
    "\n",
    "# Load the CSV file\n",
    "df = pd.read_csv(\"sentimentdataset (1).csv\")\n",
    "\n",
    "# Select relevant columns\n",
    "simplified_df = df[[\n",
    "    \"Text\", \"Sentiment\", \"Timestamp\", \"Platform\", \"Likes\", \"Retweets\", \"Country\",\n",
    "]]\n",
    "\n",
    "# Clean whitespace from string fields\n",
    "simplified_df = simplified_df.applymap(lambda x: x.strip() if isinstance(x, str) else x)\n",
    "\n",
    "# Save the simplified version to a new CSV file\n",
    "simplified_df.to_csv(\"simplified_sentiment_dataset.csv\", index=False)\n",
    "\n",
    "print(\"Simplified CSV file created successfully.\")\n"
   ]
  },
  {
   "cell_type": "code",
   "execution_count": null,
   "id": "4efb536c-0c0f-4af9-86f2-3567cb492cc4",
   "metadata": {},
   "outputs": [],
   "source": []
  }
 ],
 "metadata": {
  "kernelspec": {
   "display_name": "Python 3 (ipykernel)",
   "language": "python",
   "name": "python3"
  },
  "language_info": {
   "codemirror_mode": {
    "name": "ipython",
    "version": 3
   },
   "file_extension": ".py",
   "mimetype": "text/x-python",
   "name": "python",
   "nbconvert_exporter": "python",
   "pygments_lexer": "ipython3",
   "version": "3.12.7"
  }
 },
 "nbformat": 4,
 "nbformat_minor": 5
}
